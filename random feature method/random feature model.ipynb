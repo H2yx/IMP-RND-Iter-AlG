{
 "cells": [
  {
   "cell_type": "markdown",
   "metadata": {},
   "source": [
    "### 第一版本 本部分代码中对于激活函数$\\sigma$ (ax+b)中的x没有进行归一化，理论上效果应该不如文中的，在取rn如文中的方式时出现了很有意思的拟合高频，不拟合低频的情况，取rn为文中的导数，或取一时可以得到较好的结果"
   ]
  },
  {
   "cell_type": "code",
   "execution_count": 1,
   "metadata": {},
   "outputs": [],
   "source": [
    "import torch\n",
    "import torch.nn as nn\n",
    "import numpy as np\n",
    "import scipy.optimize\n",
    "import matplotlib.pyplot as plt\n",
    "import random"
   ]
  },
  {
   "cell_type": "markdown",
   "metadata": {},
   "source": [
    "Consider the one-dimensional Helmholtz equation with the Dirichlet boundary condition over $\\Omega=[0,8]$ :\n",
    "$$\n",
    "\\left\\{\\begin{array}{l}\n",
    "\\frac{\\mathrm{d}^2 u(x)}{\\mathrm{d} x^2}+\\lambda u(x)=f(x), \\quad x \\in \\Omega, \\\\\n",
    "u(0)=c_1, \\quad u(8)=c_2,\n",
    "\\end{array}\\right.\n",
    "$$\n",
    "where the wave number $\\lambda=4$. We choose the exact solution\n",
    "$$\n",
    "u(x)=\\sin \\left(3 \\pi x+\\frac{3 \\pi}{20}\\right) \\cos \\left(2 \\pi x+\\frac{\\pi}{10}\\right)+2\n",
    "$$"
   ]
  },
  {
   "cell_type": "code",
   "execution_count": 2,
   "metadata": {},
   "outputs": [],
   "source": [
    "def Helmholtz_exact(x):\n",
    "    #Return the exact solution\n",
    "    u=np.sin(3*np.pi*x+3*np.pi/20)*np.cos(2*np.pi*x+np.pi/10)+2\n",
    "    return u\n",
    "def f(x):\n",
    "    # to construct b from equation\n",
    "    y=np.pi*(x+1/20)\n",
    "    temp_d=np.pi**2*(-13*np.sin(3*y)*np.cos(2*y)-12*np.cos(3*y)*np.sin(2*y))\n",
    "    temp_lambda=4*Helmholtz_exact(x)\n",
    "    f=temp_d+temp_lambda\n",
    "    return f\n",
    "\n",
    "# import partion of unity function to fit variations\n",
    "def PoU_a(x):\n",
    "    if -1<=x<=1:\n",
    "        y=1\n",
    "    else:\n",
    "        y=0\n",
    "    return y\n",
    "def PoU_b(x):\n",
    "    if -5/4<=x<-3/4:\n",
    "        y=(1+np.sin(2*np.pi*x))/2\n",
    "    elif -3/4<=x<3/4:\n",
    "        y=1\n",
    "    elif 3/4<=x<5/4:\n",
    "        y=(1-np.sin(2*np.pi*x))/2\n",
    "    else:\n",
    "        y=0\n",
    "    return y\n",
    "def PoU_b_1(x):\n",
    "    if -5/4<=x<-3/4:\n",
    "        y=np.pi*np.cos(2*np.pi*x)\n",
    "    elif 3/4<=x<5/4:\n",
    "        y=-np.pi*np.cos(2*np.pi*x)\n",
    "    else:\n",
    "        y=0\n",
    "    return y\n",
    "def PoU_b_2(x):\n",
    "    if -5/4<=x<-3/4:\n",
    "        y=-2*(np.pi)**2*np.sin(2*np.pi*x)\n",
    "    elif 3/4<=x<5/4:\n",
    "        y=2*(np.pi)**2*np.sin(2*np.pi*x)\n",
    "    else:\n",
    "        y=0\n",
    "    return y\n",
    "def tanh_1(x):\n",
    "    y=1-np.tanh(x)**2\n",
    "    return y\n",
    "def tanh_2(x):\n",
    "    y=2*np.tanh(x)**3-2*np.tanh(x)\n",
    "    return y"
   ]
  },
  {
   "cell_type": "code",
   "execution_count": 3,
   "metadata": {},
   "outputs": [],
   "source": [
    "# Parameters\n",
    "M=1600\n",
    "J=50\n",
    "Mp=M/J\n",
    "x_PoU=np.arange(Mp)+1\n",
    "x_PoU=8*(2*x_PoU-1)/(2*Mp)\n",
    "rn=8/(2*Mp)\n",
    "rn=1/rn  #版本一中关于rn的选取，这么选会好很多，否则只能对高频信息进行拟合\n",
    "rn=1     #版本一中关于rn=1结果更好\n",
    "Q=1600"
   ]
  },
  {
   "cell_type": "code",
   "execution_count": 4,
   "metadata": {
    "scrolled": true
   },
   "outputs": [],
   "source": [
    "np.random.seed(2025)\n",
    "A_matrix=np.random.uniform(-1, 1, size=(int(Mp),J))\n",
    "A=np.reshape(A_matrix, (1,M), order='C')\n",
    "np.random.seed(302)\n",
    "B_matrix=np.random.uniform(-1, 1, size=(int(Mp),J))\n",
    "B=np.reshape(B_matrix, (1,M), order='C')\n",
    "\n",
    "\n",
    "#np.random.seed(2025302) \n",
    "#x_sample=np.random.uniform(0, 8, size=(1,Q))  \n",
    "#x_sample=x_sample[0]   #随机采样点\n",
    "\n",
    "x_sample=np.linspace(0,8,Q) #按照文中等距选采样点"
   ]
  },
  {
   "cell_type": "code",
   "execution_count": 5,
   "metadata": {},
   "outputs": [],
   "source": [
    "#利用微分方程信息构建方程 Q代表采样点个数 M代表神经元个数=Mp*Jn\n",
    "\n",
    "#特征函数在内点\n",
    "Phi_in=np.zeros((Q, M))\n",
    "b_in=np.zeros((Q,1))\n",
    "for i in range(Q):\n",
    "    x=x_sample[i]\n",
    "    b_in[i]=f(x)\n",
    "    for j in range(M):\n",
    "        #count which psi to use\n",
    "        p_count=int(j/J)\n",
    "        xn=x_PoU[p_count]\n",
    "        #二阶微分项\n",
    "        temp_1=2*(1/rn)*A[0,j]*PoU_b_1((x-xn)/rn)*tanh_1(A[0,j]*x+B[0,j])+A[0,j]**2*PoU_b((x-xn)/rn)*tanh_2(A[0,j]*x+B[0,j])+(1/rn)**2*PoU_b_2((x-xn)/rn)*np.tanh(A[0,j]*x+B[0,j])\n",
    "        #零阶项\n",
    "        temp_2=4*PoU_b((x-xn)/rn)*np.tanh(A[0,j]*x+B[0,j])  #版本一\n",
    "        \n",
    "        #x_hat=(x-xn)/rn\n",
    "        #temp_1=2*(1/rn)**2*A[0,j]*PoU_b_1(x_hat)*tanh_1(A[0,j]*x_hat+B[0,j])+(1/rn)**2*A[0,j]**2*PoU_b(x_hat)*tanh_2(A[0,j]*x_hat+B[0,j])+(1/rn)**2*PoU_b_2(x_hat)*np.tanh(A[0,j]*x_hat+B[0,j])\n",
    "        #temp_2=4*PoU_b(x_hat)*np.tanh(A[0,j]*x_hat+B[0,j])    #版本二\n",
    "        \n",
    "        Phi_in[i,j]=temp_1+temp_2 \n",
    "\n",
    "\n",
    "#特征函数在边界点\n",
    "Phi_bd=np.zeros((2, M))\n",
    "b_bd=np.zeros((2,1))\n",
    "x_bd=np.array([0,8])\n",
    "for i in range(2):\n",
    "    x=x_bd[i]\n",
    "    b_bd[i]=Helmholtz_exact(x)\n",
    "    for j in range(M):\n",
    "        #count which psi to use\n",
    "        p_count=int(j/J)\n",
    "        xn=x_PoU[p_count]\n",
    "        \n",
    "        Phi_bd[i,j]=PoU_b((x-xn)/rn)*np.tanh(A[0,j]*x+B[0,j])  #版本一\n",
    "        #Phi_bd[i,j]=PoU_b((x-xn)/rn)*np.tanh(A[0,j]*(x-xn)/rn+B[0,j])   #版本二"
   ]
  },
  {
   "cell_type": "code",
   "execution_count": 6,
   "metadata": {},
   "outputs": [],
   "source": [
    "###rescale\n",
    "for i in range(Q):\n",
    "    rescale=np.max(abs(Phi_in[i]))\n",
    "    #rescale=1\n",
    "    Phi_in[i]=Phi_in[i]/rescale\n",
    "    b_in[i]=b_in[i]/rescale\n",
    "for i in range(2):\n",
    "    rescale=np.max(abs(Phi_bd[i]))\n",
    "    #rescale=1\n",
    "    Phi_bd[i]=Phi_bd[i]/rescale\n",
    "    b_bd[i]=b_bd[i]/rescale"
   ]
  },
  {
   "cell_type": "markdown",
   "metadata": {},
   "source": [
    "#### rescale用来调整边界和内点在优化中的权值(具体效果有待考证)\n",
    "#### 上方代码块中两处rescale注释掉即为进行rescale"
   ]
  },
  {
   "cell_type": "code",
   "execution_count": 7,
   "metadata": {},
   "outputs": [],
   "source": [
    "Phi=np.vstack((Phi_in, Phi_bd))\n",
    "b=np.vstack((b_in, b_bd))"
   ]
  },
  {
   "cell_type": "code",
   "execution_count": 8,
   "metadata": {},
   "outputs": [],
   "source": [
    "u=np.linalg.lstsq(Phi,b,rcond=None)[0]"
   ]
  },
  {
   "cell_type": "code",
   "execution_count": 9,
   "metadata": {},
   "outputs": [],
   "source": [
    "# get the machine learning solution\n",
    "def Helmholtz_machine(x):\n",
    "    y=0\n",
    "    for i in range(int(Mp)):\n",
    "        xn=x_PoU[i]\n",
    "        psi=PoU_b((x-xn)/rn)\n",
    "        temp=0\n",
    "        for j in range(J):\n",
    "            index=i*J+j\n",
    "            temp=temp+u[index]*np.tanh(A[0,index]*x+B[0,index])  #版本一\n",
    "            #temp=temp+u[index]*np.tanh(A[0,index]*(x-xn)/rn+B[0,index])   #版本二\n",
    "        y=y+psi*temp\n",
    "    return y"
   ]
  },
  {
   "cell_type": "code",
   "execution_count": 10,
   "metadata": {},
   "outputs": [],
   "source": [
    "Q_dense=Q*1\n",
    "x_line=np.linspace(0,8,Q_dense)\n",
    "y_line=np.zeros(Q_dense)\n",
    "y_exact=np.zeros(Q_dense)\n",
    "for i in range(Q_dense):\n",
    "    y_line[i]=Helmholtz_machine(x_line[i])\n",
    "    y_exact[i]=Helmholtz_exact(x_line[i])"
   ]
  },
  {
   "cell_type": "code",
   "execution_count": 11,
   "metadata": {},
   "outputs": [
    {
     "name": "stdout",
     "output_type": "stream",
     "text": [
      "L_inf_error= 0.0002891401985156694\n"
     ]
    },
    {
     "data": {
      "image/png": "[encoded data removed]",
      "text/plain": [
       "<Figure size 432x288 with 1 Axes>"
      ]
     },
     "metadata": {
      "needs_background": "light"
     },
     "output_type": "display_data"
    }
   ],
   "source": [
    "#plt.plot(x_line,y_line,label='learning solution')\n",
    "#plt.plot(x_line,y_exact,label='exact solution')\n",
    "plt.plot(x_line,y_exact-y_line,label='error')\n",
    "plt.legend()\n",
    "print('L_inf_error=',np.max(abs(y_exact-y_line)))"
   ]
  },
  {
   "cell_type": "code",
   "execution_count": 13,
   "metadata": {
    "scrolled": false
   },
   "outputs": [
    {
     "data": {
      "text/plain": [
       "<matplotlib.collections.PathCollection at 0x217a32124a8>"
      ]
     },
     "execution_count": 13,
     "metadata": {},
     "output_type": "execute_result"
    },
    {
     "data": {
      "image/png": "[encoded data removed]",
      "text/plain": [
       "<Figure size 432x288 with 1 Axes>"
      ]
     },
     "metadata": {
      "needs_background": "light"
     },
     "output_type": "display_data"
    }
   ],
   "source": [
    "y_sample=np.zeros(Q)\n",
    "for i in range(Q):\n",
    "    y_sample[i]=Helmholtz_machine(x_sample[i])\n",
    "plt.scatter(x_sample.T,y_sample)"
   ]
  },
  {
   "cell_type": "code",
   "execution_count": 328,
   "metadata": {},
   "outputs": [
    {
     "data": {
      "text/plain": [
       "array([81.56374415])"
      ]
     },
     "execution_count": 328,
     "metadata": {},
     "output_type": "execute_result"
    }
   ],
   "source": [
    "x_selcet=x_sample[2]\n",
    "delta=0.001 # not too little because of trunction error\n",
    "d_2=(Helmholtz_machine(x_selcet+delta)+Helmholtz_machine(x_selcet-delta)-2*Helmholtz_machine(x_selcet))/(delta**2)\n",
    "d_2+4*Helmholtz_machine(x_selcet)-b[2]\n",
    "# this means the matrix caculates right"
   ]
  },
  {
   "cell_type": "code",
   "execution_count": 327,
   "metadata": {
    "scrolled": true
   },
   "outputs": [
    {
     "data": {
      "text/plain": [
       "array([[-3.18040661e+09],\n",
       "       [-2.02401413e+10],\n",
       "       [-8.21312431e+09],\n",
       "       ...,\n",
       "       [ 2.78021177e+09],\n",
       "       [-3.56547825e+09],\n",
       "       [ 1.57687342e+10]])"
      ]
     },
     "execution_count": 327,
     "metadata": {},
     "output_type": "execute_result"
    }
   ],
   "source": [
    "u"
   ]
  },
  {
   "cell_type": "code",
   "execution_count": 248,
   "metadata": {},
   "outputs": [
    {
     "data": {
      "text/plain": [
       "array([-23.67482404])"
      ]
     },
     "execution_count": 248,
     "metadata": {},
     "output_type": "execute_result"
    }
   ],
   "source": [
    "b[2]"
   ]
  },
  {
   "cell_type": "code",
   "execution_count": 329,
   "metadata": {},
   "outputs": [
    {
     "data": {
      "text/plain": [
       "0.7407853628852894"
      ]
     },
     "execution_count": 329,
     "metadata": {},
     "output_type": "execute_result"
    }
   ],
   "source": [
    "np.max(abs(np.dot(Phi,u)-b))"
   ]
  },
  {
   "cell_type": "code",
   "execution_count": 250,
   "metadata": {},
   "outputs": [
    {
     "data": {
      "text/plain": [
       "238"
      ]
     },
     "execution_count": 250,
     "metadata": {},
     "output_type": "execute_result"
    }
   ],
   "source": [
    "np.linalg.matrix_rank(Phi)"
   ]
  },
  {
   "cell_type": "code",
   "execution_count": 17,
   "metadata": {},
   "outputs": [
    {
     "data": {
      "text/plain": [
       "94.28069314535387"
      ]
     },
     "execution_count": 17,
     "metadata": {},
     "output_type": "execute_result"
    }
   ],
   "source": [
    "f(1)"
   ]
  },
  {
   "cell_type": "code",
   "execution_count": null,
   "metadata": {},
   "outputs": [],
   "source": []
  }
 ],
 "metadata": {
  "kernelspec": {
   "display_name": "Python 3",
   "language": "python",
   "name": "python3"
  },
  "language_info": {
   "codemirror_mode": {
    "name": "ipython",
    "version": 3
   },
   "file_extension": ".py",
   "mimetype": "text/x-python",
   "name": "python",
   "nbconvert_exporter": "python",
   "pygments_lexer": "ipython3",
   "version": "3.7.0"
  }
 },
 "nbformat": 4,
 "nbformat_minor": 2
}
